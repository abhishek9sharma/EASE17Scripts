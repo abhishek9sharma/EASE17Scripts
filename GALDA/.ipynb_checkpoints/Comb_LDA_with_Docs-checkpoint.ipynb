{
 "cells": [
  {
   "cell_type": "code",
   "execution_count": 1,
   "metadata": {
    "collapsed": false
   },
   "outputs": [
    {
     "name": "stdout",
     "output_type": "stream",
     "text": [
      "4_47.model\n"
     ]
    }
   ],
   "source": [
    "import gensim\n",
    "import os\n",
    "\n",
    "wd=os.getcwd()\n",
    "\n",
    "#foldermain=wd+'/Experiments/'\n",
    "foldermain='../Experiments/'\n",
    "#folderpath='../EXPERIMENTS/MODELS/'\n",
    "folderpath=foldermain+'/MODELS/'\n",
    "\n",
    "dictionary = gensim.corpora.Dictionary.load(folderpath+'MultiCore.dict')\n",
    "corpus=gensim.corpora.MmCorpus(folderpath+'MultiCoreCorpus.mm')\n",
    "modelfile=''\n",
    "for f in os.listdir(folderpath):\n",
    "    if('.model' in f and '.model.state' not in f):\n",
    "        modelfile=f\n",
    "print(modelfile)       \n",
    "model_test= gensim.models.ldamodel.LdaModel.load(folderpath+modelfile)"
   ]
  },
  {
   "cell_type": "markdown",
   "metadata": {},
   "source": []
  },
  {
   "cell_type": "code",
   "execution_count": 2,
   "metadata": {
    "collapsed": false,
    "scrolled": true
   },
   "outputs": [
    {
     "data": {
      "text/plain": [
       "[(0,\n",
       "  [(u'plugin', 0.063454172702522099),\n",
       "   (u'languag', 0.031764048316151337),\n",
       "   (u'microlightj', 0.031762833287201038),\n",
       "   (u'jqueri', 0.031762109869257323),\n",
       "   (u'demo', 0.031761830648319431)]),\n",
       " (1,\n",
       "  [(u'updat', 0.0040385646970726814),\n",
       "   (u'angular2', 0.0040246494707782262),\n",
       "   (u'mode', 0.004014608499632118),\n",
       "   (u'sleep', 0.0040115766114905034),\n",
       "   (u'host', 0.0040099264760244703)]),\n",
       " (2,\n",
       "  [(u'mode', 0.070912268499644618),\n",
       "   (u'sleep', 0.053188064789222694),\n",
       "   (u'arduino', 0.046098307583574354),\n",
       "   (u'void', 0.039009208594814423),\n",
       "   (u'descript', 0.039008758462851852)]),\n",
       " (3,\n",
       "  [(u'updat', 0.069277360972725618),\n",
       "   (u'angular2', 0.039605719143460859),\n",
       "   (u'core', 0.029714827641328018),\n",
       "   (u'minikanren', 0.029713677700571244),\n",
       "   (u'aspnet', 0.019824487592089213)])]"
      ]
     },
     "execution_count": 2,
     "metadata": {},
     "output_type": "execute_result"
    }
   ],
   "source": [
    "#show word probabilities for each topic\n",
    "X=model_test.show_topics(num_topics=50, num_words=5, log=False, formatted=False)\n",
    "test=[(x[0],[y[0] for y in x[1]]) for x in X]\n",
    "topicDesc={}\n",
    "\n",
    "for t in test:\n",
    "    topicstr=' + '.join(str(e) for e in t[1])\n",
    "    #print topicstr\n",
    "    topicDesc[t[0]]=topicstr\n",
    "\n",
    "model_test.show_topics(num_topics=50, num_words=5, log=False, formatted=False)"
   ]
  },
  {
   "cell_type": "code",
   "execution_count": 3,
   "metadata": {
    "collapsed": false
   },
   "outputs": [],
   "source": [
    "#WRITETOFILE\n",
    "folder=foldermain+'REPOPROPS/'\n",
    "\n",
    "for k in topicDesc.keys():\n",
    "    line=str(k)+','+topicDesc[k]\n",
    "    fout=open(folder+'topickeys.csv','a')\n",
    "    fout.write(line+'\\n')\n",
    "    fout.close()\n",
    "    \n"
   ]
  },
  {
   "cell_type": "code",
   "execution_count": 4,
   "metadata": {
    "collapsed": false
   },
   "outputs": [],
   "source": [
    "#LOAD DOCUMENTS\n",
    "import os\n",
    "foldername=foldermain+'/FILTEREDRM/PREPROCESSED/'\n",
    "fileList = os.listdir(foldername)\n",
    "docdict={}\n",
    "for fn in fileList:\n",
    "    f = open(foldername + fn, 'r')\n",
    "    txt = str(f.read())\n",
    "    docdict[fn]=txt.split()\n",
    "    f.close()"
   ]
  },
  {
   "cell_type": "code",
   "execution_count": 5,
   "metadata": {
    "collapsed": false
   },
   "outputs": [],
   "source": [
    "#FIND TOPIC\n",
    "import numpy as np\n",
    "docTopicDict={}\n",
    "for d in docdict.keys():\n",
    "    docProbs=model_test[[dictionary.doc2bow(docdict[d])]]\n",
    "    currrdocProb = [0]*49\n",
    "    for p in docProbs[0]:\n",
    "        currrdocProb[p[0]]=p[1]\n",
    "        doc_topic = np.array(currrdocProb)\n",
    "        topic=np.array(doc_topic).argmax()\n",
    "        docTopicDict[d.strip().replace('.txt','')]=topic"
   ]
  },
  {
   "cell_type": "code",
   "execution_count": 6,
   "metadata": {
    "collapsed": false
   },
   "outputs": [],
   "source": [
    "#WRITE DOCTOPIC TO FILES\n",
    "folder=foldermain+'REPOPROPS/'\n",
    "for k in docTopicDict:\n",
    "    line=k+','+str(docTopicDict[k])\n",
    "    fout=open(folder+'doctopic.csv','a')\n",
    "    fout.write(line+'\\n')\n",
    "    fout.close()"
   ]
  },
  {
   "cell_type": "code",
   "execution_count": 7,
   "metadata": {
    "collapsed": false
   },
   "outputs": [],
   "source": [
    "#LOAD DOC/proj/repo NAMEs\n",
    "repdata=os.listdir(foldermain+'/HTMLSORG')\n"
   ]
  },
  {
   "cell_type": "code",
   "execution_count": 8,
   "metadata": {
    "collapsed": false
   },
   "outputs": [],
   "source": [
    "#COMBINE DATA\n",
    "fnames=docTopicDict.keys()\n",
    "cnt=0\n",
    "folder=foldermain+'REPOPROPS/'\n",
    "comb=open(folder+'comb2desc.csv','a')\n",
    "for repoline in repdata:\n",
    "    #fkey=repoline.split(',')[0]\n",
    "    fkey=repoline.replace('.txt','')   \n",
    "    if(fkey in fnames):\n",
    "        currtopic=docTopicDict[fkey]\n",
    "        newline=repoline.replace('\\n','')+','+str(currtopic)+','+str(topicDesc[currtopic])\n",
    "    else:\n",
    "        newline=repoline.replace('\\n','')+',TOPICASSIGNED,TOPICWORDS'\n",
    "    comb.write(newline+'\\n')\n",
    "comb.close()"
   ]
  }
 ],
 "metadata": {
  "anaconda-cloud": {},
  "kernelspec": {
   "display_name": "Python 2",
   "language": "python",
   "name": "python2"
  },
  "language_info": {
   "codemirror_mode": {
    "name": "ipython",
    "version": 2
   },
   "file_extension": ".py",
   "mimetype": "text/x-python",
   "name": "python",
   "nbconvert_exporter": "python",
   "pygments_lexer": "ipython2",
   "version": "2.7.12"
  }
 },
 "nbformat": 4,
 "nbformat_minor": 0
}
